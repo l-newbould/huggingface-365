{
 "cells": [
  {
   "cell_type": "markdown",
   "id": "2595f354",
   "metadata": {},
   "source": [
    "# Pipelines"
   ]
  },
  {
   "cell_type": "markdown",
   "id": "fbbd8d08",
   "metadata": {},
   "source": [
    "## zero shot classification"
   ]
  },
  {
   "cell_type": "code",
   "execution_count": 1,
   "id": "1c9b392a",
   "metadata": {},
   "outputs": [
    {
     "name": "stderr",
     "output_type": "stream",
     "text": [
      "C:\\Users\\lnewb\\AppData\\Local\\Programs\\Python\\Python311\\Lib\\site-packages\\torchvision\\datapoints\\__init__.py:12: UserWarning: The torchvision.datapoints and torchvision.transforms.v2 namespaces are still Beta. While we do not expect major breaking changes, some APIs may still change according to user feedback. Please submit any feedback you may have in this issue: https://github.com/pytorch/vision/issues/6753, and you can also check out https://github.com/pytorch/vision/issues/7319 to learn more about the APIs that we suspect might involve future changes. You can silence this warning by calling torchvision.disable_beta_transforms_warning().\n",
      "  warnings.warn(_BETA_TRANSFORMS_WARNING)\n",
      "C:\\Users\\lnewb\\AppData\\Local\\Programs\\Python\\Python311\\Lib\\site-packages\\torchvision\\transforms\\v2\\__init__.py:54: UserWarning: The torchvision.datapoints and torchvision.transforms.v2 namespaces are still Beta. While we do not expect major breaking changes, some APIs may still change according to user feedback. Please submit any feedback you may have in this issue: https://github.com/pytorch/vision/issues/6753, and you can also check out https://github.com/pytorch/vision/issues/7319 to learn more about the APIs that we suspect might involve future changes. You can silence this warning by calling torchvision.disable_beta_transforms_warning().\n",
      "  warnings.warn(_BETA_TRANSFORMS_WARNING)\n"
     ]
    }
   ],
   "source": [
    "from transformers import pipeline"
   ]
  },
  {
   "cell_type": "code",
   "execution_count": 2,
   "id": "7ef90cee",
   "metadata": {},
   "outputs": [
    {
     "name": "stderr",
     "output_type": "stream",
     "text": [
      "No model was supplied, defaulted to facebook/bart-large-mnli and revision d7645e1 (https://huggingface.co/facebook/bart-large-mnli).\n",
      "Using a pipeline without specifying a model name and revision in production is not recommended.\n",
      "Device set to use cpu\n"
     ]
    }
   ],
   "source": [
    "classifier = pipeline(\"zero-shot-classification\")"
   ]
  },
  {
   "cell_type": "code",
   "execution_count": 53,
   "id": "31c983b3",
   "metadata": {},
   "outputs": [],
   "source": [
    "email1 = (\n",
    "\"\"\"\n",
    "I would like to schedule a meeting this week to discuss the latest updates on the project and review \n",
    "any challenges we may be facing. Please let me know your availability, \n",
    "and I’ll send a calendar invite accordingly.\n",
    "\"\"\"\n",
    ")\n",
    "\n",
    "email2 = (\n",
    "\"\"\"\n",
    "We are writing to inform you of recent changes to the terms of your account. \n",
    "Please log in to your online banking \n",
    "to review the update and ensure all your details are up to date. \n",
    "\"\"\"\n",
    ")\n",
    "\n",
    "email3 = (\n",
    "\"\"\"\n",
    "I hope you're doing well! I just wanted to check in and see how things are going with you, \n",
    "it's been a while since we last chatted. \n",
    "Let me know if you'd like to catch up over a call soon.\n",
    "\"\"\"\n",
    ")"
   ]
  },
  {
   "cell_type": "code",
   "execution_count": 48,
   "id": "e335704c",
   "metadata": {},
   "outputs": [],
   "source": [
    "labels = [\"work\", \"family\", \"shopping\", \"bank\"]"
   ]
  },
  {
   "cell_type": "code",
   "execution_count": 49,
   "id": "57126805",
   "metadata": {},
   "outputs": [],
   "source": [
    "def email_classifier(email):\n",
    "    result = classifier(email, labels)\n",
    "    print(email)\n",
    "    print(result['labels'])\n",
    "    print(result['scores'])"
   ]
  },
  {
   "cell_type": "code",
   "execution_count": 50,
   "id": "fcfe92ad",
   "metadata": {},
   "outputs": [
    {
     "name": "stdout",
     "output_type": "stream",
     "text": [
      "\n",
      "I would like to schedule a meeting this week to discuss the latest updates on the project and review \n",
      "any challenges we may be facing. Please let me know your availability, \n",
      "and I’ll send a calendar invite accordingly.\n",
      "\n",
      "['work', 'bank', 'family', 'shopping']\n",
      "[0.6842801570892334, 0.16454987227916718, 0.09653735905885696, 0.05463256686925888]\n"
     ]
    }
   ],
   "source": [
    "email_classifier(email1)"
   ]
  },
  {
   "cell_type": "code",
   "execution_count": 54,
   "id": "281231be",
   "metadata": {},
   "outputs": [
    {
     "name": "stdout",
     "output_type": "stream",
     "text": [
      "\n",
      "We are writing to inform you of recent changes to the terms of your account. \n",
      "Please log in to your online banking \n",
      "to review the update and ensure all your details are up to date. \n",
      "\n",
      "['bank', 'work', 'family', 'shopping']\n",
      "[0.43756306171417236, 0.38451048731803894, 0.13505898416042328, 0.04286746680736542]\n"
     ]
    }
   ],
   "source": [
    "email_classifier(email2)"
   ]
  },
  {
   "cell_type": "code",
   "execution_count": 52,
   "id": "6ec89ccd",
   "metadata": {},
   "outputs": [
    {
     "name": "stdout",
     "output_type": "stream",
     "text": [
      "\n",
      "I hope you're doing well! I just wanted to check in and see how things are going with you, \n",
      "it's been a while since we last chatted. \n",
      "Let me know if you'd like to catch up over a call soon.\n",
      "\n",
      "['family', 'bank', 'work', 'shopping']\n",
      "[0.44756847620010376, 0.2702644467353821, 0.22858040034770966, 0.05358666181564331]\n"
     ]
    }
   ],
   "source": [
    "email_classifier(email3)"
   ]
  },
  {
   "cell_type": "markdown",
   "id": "9a3ace5a",
   "metadata": {},
   "source": [
    "#### Excersice"
   ]
  },
  {
   "cell_type": "code",
   "execution_count": 15,
   "id": "20f653d7",
   "metadata": {},
   "outputs": [
    {
     "name": "stderr",
     "output_type": "stream",
     "text": [
      "No model was supplied, defaulted to facebook/bart-large-mnli and revision d7645e1 (https://huggingface.co/facebook/bart-large-mnli).\n",
      "Using a pipeline without specifying a model name and revision in production is not recommended.\n",
      "Device set to use cpu\n"
     ]
    },
    {
     "name": "stdout",
     "output_type": "stream",
     "text": [
      "{'sequence': 'I love working with Hugging Face!', 'labels': ['positive', 'neutral', 'negative'], 'scores': [0.9527419209480286, 0.028863100335001945, 0.018395032733678818]}\n"
     ]
    }
   ],
   "source": [
    "# Import the correct function \n",
    "from transformers import pipeline \n",
    "# Create the pipeline \n",
    "classifier = pipeline(\"zero-shot-classification\") \n",
    "# Get the text to classify and the labels \n",
    "input_text = \"I love working with Hugging Face!\" \n",
    "labels = [\"positive\", \"neutral\", \"negative\"] \n",
    "# Classify the text and print the output \n",
    "classified_text = classifier(input_text, labels) \n",
    "print(classified_text)"
   ]
  },
  {
   "cell_type": "markdown",
   "id": "26924b17",
   "metadata": {},
   "source": [
    "## Text Classification"
   ]
  },
  {
   "cell_type": "code",
   "execution_count": 1,
   "id": "d22c9666",
   "metadata": {},
   "outputs": [
    {
     "name": "stderr",
     "output_type": "stream",
     "text": [
      "C:\\Users\\lnewb\\AppData\\Local\\Programs\\Python\\Python311\\Lib\\site-packages\\torchvision\\datapoints\\__init__.py:12: UserWarning: The torchvision.datapoints and torchvision.transforms.v2 namespaces are still Beta. While we do not expect major breaking changes, some APIs may still change according to user feedback. Please submit any feedback you may have in this issue: https://github.com/pytorch/vision/issues/6753, and you can also check out https://github.com/pytorch/vision/issues/7319 to learn more about the APIs that we suspect might involve future changes. You can silence this warning by calling torchvision.disable_beta_transforms_warning().\n",
      "  warnings.warn(_BETA_TRANSFORMS_WARNING)\n",
      "C:\\Users\\lnewb\\AppData\\Local\\Programs\\Python\\Python311\\Lib\\site-packages\\torchvision\\transforms\\v2\\__init__.py:54: UserWarning: The torchvision.datapoints and torchvision.transforms.v2 namespaces are still Beta. While we do not expect major breaking changes, some APIs may still change according to user feedback. Please submit any feedback you may have in this issue: https://github.com/pytorch/vision/issues/6753, and you can also check out https://github.com/pytorch/vision/issues/7319 to learn more about the APIs that we suspect might involve future changes. You can silence this warning by calling torchvision.disable_beta_transforms_warning().\n",
      "  warnings.warn(_BETA_TRANSFORMS_WARNING)\n"
     ]
    }
   ],
   "source": [
    "from transformers import pipeline"
   ]
  },
  {
   "cell_type": "code",
   "execution_count": 2,
   "id": "1b967af8",
   "metadata": {},
   "outputs": [
    {
     "name": "stderr",
     "output_type": "stream",
     "text": [
      "No model was supplied, defaulted to openai-community/gpt2 and revision 607a30d (https://huggingface.co/openai-community/gpt2).\n",
      "Using a pipeline without specifying a model name and revision in production is not recommended.\n"
     ]
    },
    {
     "data": {
      "application/vnd.jupyter.widget-view+json": {
       "model_id": "1e3e1c6300274ca78e66f699e8e0c8d1",
       "version_major": 2,
       "version_minor": 0
      },
      "text/plain": [
       "config.json:   0%|          | 0.00/665 [00:00<?, ?B/s]"
      ]
     },
     "metadata": {},
     "output_type": "display_data"
    },
    {
     "data": {
      "application/vnd.jupyter.widget-view+json": {
       "model_id": "2d62b713741443d3ba690a05db8e4959",
       "version_major": 2,
       "version_minor": 0
      },
      "text/plain": [
       "model.safetensors:   0%|          | 0.00/548M [00:00<?, ?B/s]"
      ]
     },
     "metadata": {},
     "output_type": "display_data"
    },
    {
     "data": {
      "application/vnd.jupyter.widget-view+json": {
       "model_id": "c1b0332368bc4ad087906f3547066500",
       "version_major": 2,
       "version_minor": 0
      },
      "text/plain": [
       "generation_config.json:   0%|          | 0.00/124 [00:00<?, ?B/s]"
      ]
     },
     "metadata": {},
     "output_type": "display_data"
    },
    {
     "data": {
      "application/vnd.jupyter.widget-view+json": {
       "model_id": "94fed2526aa94aeabb8b4dd7e42a3df4",
       "version_major": 2,
       "version_minor": 0
      },
      "text/plain": [
       "tokenizer_config.json:   0%|          | 0.00/26.0 [00:00<?, ?B/s]"
      ]
     },
     "metadata": {},
     "output_type": "display_data"
    },
    {
     "data": {
      "application/vnd.jupyter.widget-view+json": {
       "model_id": "72d701df64264bd09df2fb55f01e7ca4",
       "version_major": 2,
       "version_minor": 0
      },
      "text/plain": [
       "vocab.json:   0%|          | 0.00/1.04M [00:00<?, ?B/s]"
      ]
     },
     "metadata": {},
     "output_type": "display_data"
    },
    {
     "data": {
      "application/vnd.jupyter.widget-view+json": {
       "model_id": "1689d00bea4f425abfc74ac415542963",
       "version_major": 2,
       "version_minor": 0
      },
      "text/plain": [
       "merges.txt:   0%|          | 0.00/456k [00:00<?, ?B/s]"
      ]
     },
     "metadata": {},
     "output_type": "display_data"
    },
    {
     "data": {
      "application/vnd.jupyter.widget-view+json": {
       "model_id": "fd34c173be1d4980898c528e659c329c",
       "version_major": 2,
       "version_minor": 0
      },
      "text/plain": [
       "tokenizer.json:   0%|          | 0.00/1.36M [00:00<?, ?B/s]"
      ]
     },
     "metadata": {},
     "output_type": "display_data"
    },
    {
     "name": "stderr",
     "output_type": "stream",
     "text": [
      "Device set to use cpu\n"
     ]
    }
   ],
   "source": [
    "text_generator = pipeline(\"text-generation\")"
   ]
  },
  {
   "cell_type": "code",
   "execution_count": 6,
   "id": "2f325671",
   "metadata": {},
   "outputs": [],
   "source": [
    "prompt = \"The year is 2050, and computers have taken control of society,\""
   ]
  },
  {
   "cell_type": "code",
   "execution_count": 11,
   "id": "26c3762c",
   "metadata": {},
   "outputs": [
    {
     "name": "stderr",
     "output_type": "stream",
     "text": [
      "Setting `pad_token_id` to `eos_token_id`:50256 for open-end generation.\n"
     ]
    }
   ],
   "source": [
    "generated_text = text_generator(prompt)"
   ]
  },
  {
   "cell_type": "code",
   "execution_count": 12,
   "id": "7219f514",
   "metadata": {},
   "outputs": [
    {
     "name": "stdout",
     "output_type": "stream",
     "text": [
      "[{'generated_text': 'The year is 2050, and computers have taken control of society, but now we need a new way for us to keep growing.\\n\\nWe could easily produce something like 2 million different foods and beverages by 2050. We could eat one million of them'}]\n"
     ]
    }
   ],
   "source": [
    "print(generated_text)"
   ]
  },
  {
   "cell_type": "markdown",
   "id": "813cd4a2",
   "metadata": {},
   "source": [
    "## Summarization"
   ]
  },
  {
   "cell_type": "code",
   "execution_count": 16,
   "id": "9fffb750",
   "metadata": {},
   "outputs": [],
   "source": [
    "from transformers import pipeline"
   ]
  },
  {
   "cell_type": "code",
   "execution_count": 17,
   "id": "1da5babb",
   "metadata": {},
   "outputs": [
    {
     "name": "stderr",
     "output_type": "stream",
     "text": [
      "No model was supplied, defaulted to sshleifer/distilbart-cnn-12-6 and revision a4f8f3e (https://huggingface.co/sshleifer/distilbart-cnn-12-6).\n",
      "Using a pipeline without specifying a model name and revision in production is not recommended.\n"
     ]
    },
    {
     "data": {
      "application/vnd.jupyter.widget-view+json": {
       "model_id": "0cc40ce60639413ca990f30c33189726",
       "version_major": 2,
       "version_minor": 0
      },
      "text/plain": [
       "config.json:   0%|          | 0.00/1.80k [00:00<?, ?B/s]"
      ]
     },
     "metadata": {},
     "output_type": "display_data"
    },
    {
     "data": {
      "application/vnd.jupyter.widget-view+json": {
       "model_id": "e96ea1cdefb44fcc96c40d96c881ef32",
       "version_major": 2,
       "version_minor": 0
      },
      "text/plain": [
       "pytorch_model.bin:   0%|          | 0.00/1.22G [00:00<?, ?B/s]"
      ]
     },
     "metadata": {},
     "output_type": "display_data"
    },
    {
     "name": "stderr",
     "output_type": "stream",
     "text": [
      "Error while downloading from https://cdn-lfs.hf.co/sshleifer/distilbart-cnn-12-6/3bac65d18c99463302d12ca75c2220ea714f9c81ce235f205fa818efe71df6ea?response-content-disposition=inline%3B+filename*%3DUTF-8%27%27pytorch_model.bin%3B+filename%3D%22pytorch_model.bin%22%3B&response-content-type=application%2Foctet-stream&Expires=1736679402&Policy=eyJTdGF0ZW1lbnQiOlt7IkNvbmRpdGlvbiI6eyJEYXRlTGVzc1RoYW4iOnsiQVdTOkVwb2NoVGltZSI6MTczNjY3OTQwMn19LCJSZXNvdXJjZSI6Imh0dHBzOi8vY2RuLWxmcy5oZi5jby9zc2hsZWlmZXIvZGlzdGlsYmFydC1jbm4tMTItNi8zYmFjNjVkMThjOTk0NjMzMDJkMTJjYTc1YzIyMjBlYTcxNGY5YzgxY2UyMzVmMjA1ZmE4MThlZmU3MWRmNmVhP3Jlc3BvbnNlLWNvbnRlbnQtZGlzcG9zaXRpb249KiZyZXNwb25zZS1jb250ZW50LXR5cGU9KiJ9XX0_&Signature=JHE9lrWg8s%7ExOFsap-0yklXEw6oDMDWdkjdxWPnMHHoq5pBiTyVUgSXt3IdJQqH56vls-homPGdkoXD%7E88GM5oBctsnIdWdP1l0zwWUA7zmX2SyZgMUGUvlhZBtALcOr8D6mOjF3vNVJLJoEGjdJQU8iIG9ho8i3hQMjtOXVt-RrmHOXnIlTUK6tWdtlVRdye0oC8TFEkEPeDhEPAfwrOEIuFJWms9cNyNMTHSoeKgb3S0T0879dg6fM8RbNI7nqdJOP3FQyHgAZKk2iVeQlM9q4%7EmeV0L9-o1wy1fsUh8MIuNTpwjjKrP%7EsVumxBCxcE5OaVX2WBrUOVWxHGj-I6w__&Key-Pair-Id=K3RPWS32NSSJCE: HTTPSConnectionPool(host='cdn-lfs.hf.co', port=443): Read timed out.\n",
      "Trying to resume download...\n"
     ]
    },
    {
     "data": {
      "application/vnd.jupyter.widget-view+json": {
       "model_id": "ca4ffa5bbd3b4d33aad1aeb06fda9dba",
       "version_major": 2,
       "version_minor": 0
      },
      "text/plain": [
       "pytorch_model.bin:  98%|#########7| 1.20G/1.22G [00:00<?, ?B/s]"
      ]
     },
     "metadata": {},
     "output_type": "display_data"
    },
    {
     "name": "stderr",
     "output_type": "stream",
     "text": [
      "C:\\Users\\lnewb\\AppData\\Local\\Programs\\Python\\Python311\\Lib\\site-packages\\torch\\_utils.py:776: UserWarning: TypedStorage is deprecated. It will be removed in the future and UntypedStorage will be the only storage class. This should only matter to you if you are using storages directly.  To access UntypedStorage directly, use tensor.untyped_storage() instead of tensor.storage()\n",
      "  return self.fget.__get__(instance, owner)()\n"
     ]
    },
    {
     "data": {
      "application/vnd.jupyter.widget-view+json": {
       "model_id": "cfe3e7d324e84286acbae0152cea4c73",
       "version_major": 2,
       "version_minor": 0
      },
      "text/plain": [
       "tokenizer_config.json:   0%|          | 0.00/26.0 [00:00<?, ?B/s]"
      ]
     },
     "metadata": {},
     "output_type": "display_data"
    },
    {
     "data": {
      "application/vnd.jupyter.widget-view+json": {
       "model_id": "cf833c57fa59458abd20701f1f60c8ed",
       "version_major": 2,
       "version_minor": 0
      },
      "text/plain": [
       "vocab.json:   0%|          | 0.00/899k [00:00<?, ?B/s]"
      ]
     },
     "metadata": {},
     "output_type": "display_data"
    },
    {
     "data": {
      "application/vnd.jupyter.widget-view+json": {
       "model_id": "3fe35e08d7104a06bcaaab507d9bf0fa",
       "version_major": 2,
       "version_minor": 0
      },
      "text/plain": [
       "merges.txt:   0%|          | 0.00/456k [00:00<?, ?B/s]"
      ]
     },
     "metadata": {},
     "output_type": "display_data"
    },
    {
     "name": "stderr",
     "output_type": "stream",
     "text": [
      "Device set to use cpu\n"
     ]
    }
   ],
   "source": [
    "summarizer = pipeline(\"summarization\")"
   ]
  },
  {
   "cell_type": "code",
   "execution_count": 23,
   "id": "d4989278",
   "metadata": {},
   "outputs": [],
   "source": [
    "text_to_summarize =\\\n",
    "\"\"\"\n",
    "Over the past decade, AI has undergone significant advancements that have transformed industries and everyday life. One of the most notable breakthroughs has been the development of deep learning techniques, particularly in the field of neural networks. In 2012, the introduction of convolutional neural networks (CNNs) for image classification by AlexNet revolutionized computer vision, leading to AI systems achieving human-level accuracy in image recognition tasks.\n",
    "In the following years, natural language processing saw major improvements with the introduction of transformer-based models like BERT and GPT. These models significantly enhanced AI's ability to understand and generate human language, enabling applications such as automatic translation, chatbots, and content creation. GPT-3, for example, has demonstrated the ability to produce coherent and contextually relevant text, sparking a surge in interest in language models.\n",
    "AI also made strides in reinforcement learning, with algorithms like AlphaGo and its successor AlphaZero achieving unprecedented success in complex board games such as Go and chess. These achievements showcased AI's potential in mastering strategic decision-making.\n",
    "The widespread availability of cloud computing and massive datasets has accelerated AI research, making powerful machine learning models more accessible. However, this has also raised concerns about AI ethics, data privacy, and the potential for biases in algorithms. In response, there has been a growing emphasis on responsible AI development, with organizations and governments pushing for regulations to ensure the ethical use of AI technologies.\n",
    "AI-powered automation has also made its mark in various sectors, including healthcare, finance, and manufacturing. Algorithms are now used to predict disease outcomes, optimize financial trading, and enhance production efficiency. As AI continues to evolve, experts believe that its capabilities will only expand, with future developments focusing on improving general intelligence, enhancing human-AI collaboration, and addressing societal challenges.\n",
    "\"\"\""
   ]
  },
  {
   "cell_type": "code",
   "execution_count": 24,
   "id": "51b95c24",
   "metadata": {},
   "outputs": [],
   "source": [
    "summarized_text = summarizer(text_to_summarize)"
   ]
  },
  {
   "cell_type": "code",
   "execution_count": 25,
   "id": "61ee28c9",
   "metadata": {},
   "outputs": [
    {
     "name": "stdout",
     "output_type": "stream",
     "text": [
      "[{'summary_text': ' Over the past decade, AI has undergone significant advancements that have transformed industries and everyday life . Algorithms are now used to predict disease outcomes, optimize financial trading, and enhance production efficiency . Future developments will focus on improving general intelligence, enhancing human-AI collaboration, and addressing societal challenges .'}]\n"
     ]
    }
   ],
   "source": [
    "print(summarized_text)"
   ]
  },
  {
   "cell_type": "markdown",
   "id": "b63768c2",
   "metadata": {},
   "source": [
    "## Image Classification"
   ]
  },
  {
   "cell_type": "code",
   "execution_count": 34,
   "id": "cdea7ce5",
   "metadata": {},
   "outputs": [],
   "source": [
    "from transformers import pipeline\n",
    "from PIL import Image"
   ]
  },
  {
   "cell_type": "code",
   "execution_count": 27,
   "id": "3ee68792",
   "metadata": {},
   "outputs": [
    {
     "name": "stderr",
     "output_type": "stream",
     "text": [
      "No model was supplied, defaulted to openai/clip-vit-base-patch32 and revision 3d74acf (https://huggingface.co/openai/clip-vit-base-patch32).\n",
      "Using a pipeline without specifying a model name and revision in production is not recommended.\n"
     ]
    },
    {
     "data": {
      "application/vnd.jupyter.widget-view+json": {
       "model_id": "c9523ed69049424bb6bb34c14433c727",
       "version_major": 2,
       "version_minor": 0
      },
      "text/plain": [
       "config.json:   0%|          | 0.00/4.19k [00:00<?, ?B/s]"
      ]
     },
     "metadata": {},
     "output_type": "display_data"
    },
    {
     "data": {
      "application/vnd.jupyter.widget-view+json": {
       "model_id": "4da021228da34bff8538863ad3b7c167",
       "version_major": 2,
       "version_minor": 0
      },
      "text/plain": [
       "pytorch_model.bin:   0%|          | 0.00/605M [00:00<?, ?B/s]"
      ]
     },
     "metadata": {},
     "output_type": "display_data"
    },
    {
     "data": {
      "application/vnd.jupyter.widget-view+json": {
       "model_id": "5f02542e0cf44f709c7811108113620c",
       "version_major": 2,
       "version_minor": 0
      },
      "text/plain": [
       "tokenizer_config.json:   0%|          | 0.00/592 [00:00<?, ?B/s]"
      ]
     },
     "metadata": {},
     "output_type": "display_data"
    },
    {
     "data": {
      "application/vnd.jupyter.widget-view+json": {
       "model_id": "809541dc0b5047759dbec5c36e6e57fc",
       "version_major": 2,
       "version_minor": 0
      },
      "text/plain": [
       "vocab.json:   0%|          | 0.00/862k [00:00<?, ?B/s]"
      ]
     },
     "metadata": {},
     "output_type": "display_data"
    },
    {
     "data": {
      "application/vnd.jupyter.widget-view+json": {
       "model_id": "1e1f19aadf7347fbaa6584bf1808e00d",
       "version_major": 2,
       "version_minor": 0
      },
      "text/plain": [
       "merges.txt:   0%|          | 0.00/525k [00:00<?, ?B/s]"
      ]
     },
     "metadata": {},
     "output_type": "display_data"
    },
    {
     "data": {
      "application/vnd.jupyter.widget-view+json": {
       "model_id": "4ce4fd386d1f4e8c9d5e37f689de22d6",
       "version_major": 2,
       "version_minor": 0
      },
      "text/plain": [
       "tokenizer.json:   0%|          | 0.00/2.22M [00:00<?, ?B/s]"
      ]
     },
     "metadata": {},
     "output_type": "display_data"
    },
    {
     "data": {
      "application/vnd.jupyter.widget-view+json": {
       "model_id": "25af5e41c08043d588fada14fbd693a7",
       "version_major": 2,
       "version_minor": 0
      },
      "text/plain": [
       "special_tokens_map.json:   0%|          | 0.00/389 [00:00<?, ?B/s]"
      ]
     },
     "metadata": {},
     "output_type": "display_data"
    },
    {
     "data": {
      "application/vnd.jupyter.widget-view+json": {
       "model_id": "3e0fa4606d5b4f4894630f31b7565af9",
       "version_major": 2,
       "version_minor": 0
      },
      "text/plain": [
       "preprocessor_config.json:   0%|          | 0.00/316 [00:00<?, ?B/s]"
      ]
     },
     "metadata": {},
     "output_type": "display_data"
    },
    {
     "name": "stderr",
     "output_type": "stream",
     "text": [
      "Device set to use cpu\n"
     ]
    }
   ],
   "source": [
    "image_classifier = pipeline(\"zero-shot-image-classification\")"
   ]
  },
  {
   "cell_type": "code",
   "execution_count": 62,
   "id": "21ca0353",
   "metadata": {},
   "outputs": [],
   "source": [
    "image_path = r\"C:\\Users\\lnewb\\OneDrive\\Pictures\\HuggingFace\\cat.png\""
   ]
  },
  {
   "cell_type": "code",
   "execution_count": 63,
   "id": "404a04ff",
   "metadata": {},
   "outputs": [],
   "source": [
    "image = Image.open(image_path)"
   ]
  },
  {
   "cell_type": "code",
   "execution_count": 70,
   "id": "f2cdc35c",
   "metadata": {},
   "outputs": [],
   "source": [
    "labels = [\"bat\", \"mink\", \"rat\", \"cat\", \"bird\", \"dog\"]"
   ]
  },
  {
   "cell_type": "code",
   "execution_count": 71,
   "id": "9dde0816",
   "metadata": {},
   "outputs": [
    {
     "data": {
      "text/plain": [
       "[{'score': 0.6539203524589539, 'label': 'cat'},\n",
       " {'score': 0.23297177255153656, 'label': 'mink'},\n",
       " {'score': 0.08247629553079605, 'label': 'bat'},\n",
       " {'score': 0.017107397317886353, 'label': 'rat'},\n",
       " {'score': 0.010524636134505272, 'label': 'dog'},\n",
       " {'score': 0.002999486867338419, 'label': 'bird'}]"
      ]
     },
     "execution_count": 71,
     "metadata": {},
     "output_type": "execute_result"
    }
   ],
   "source": [
    "image_classifier(image, candidate_labels=labels)"
   ]
  },
  {
   "cell_type": "code",
   "execution_count": null,
   "id": "0985327b",
   "metadata": {},
   "outputs": [],
   "source": []
  }
 ],
 "metadata": {
  "kernelspec": {
   "display_name": "Python 3 (ipykernel)",
   "language": "python",
   "name": "python3"
  },
  "language_info": {
   "codemirror_mode": {
    "name": "ipython",
    "version": 3
   },
   "file_extension": ".py",
   "mimetype": "text/x-python",
   "name": "python",
   "nbconvert_exporter": "python",
   "pygments_lexer": "ipython3",
   "version": "3.11.5"
  }
 },
 "nbformat": 4,
 "nbformat_minor": 5
}
