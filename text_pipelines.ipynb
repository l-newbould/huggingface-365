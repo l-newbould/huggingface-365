{
 "cells": [
  {
   "cell_type": "code",
   "execution_count": 1,
   "id": "81196d37",
   "metadata": {},
   "outputs": [
    {
     "name": "stderr",
     "output_type": "stream",
     "text": [
      "C:\\Users\\lnewb\\AppData\\Local\\Programs\\Python\\Python311\\Lib\\site-packages\\torchvision\\datapoints\\__init__.py:12: UserWarning: The torchvision.datapoints and torchvision.transforms.v2 namespaces are still Beta. While we do not expect major breaking changes, some APIs may still change according to user feedback. Please submit any feedback you may have in this issue: https://github.com/pytorch/vision/issues/6753, and you can also check out https://github.com/pytorch/vision/issues/7319 to learn more about the APIs that we suspect might involve future changes. You can silence this warning by calling torchvision.disable_beta_transforms_warning().\n",
      "  warnings.warn(_BETA_TRANSFORMS_WARNING)\n",
      "C:\\Users\\lnewb\\AppData\\Local\\Programs\\Python\\Python311\\Lib\\site-packages\\torchvision\\transforms\\v2\\__init__.py:54: UserWarning: The torchvision.datapoints and torchvision.transforms.v2 namespaces are still Beta. While we do not expect major breaking changes, some APIs may still change according to user feedback. Please submit any feedback you may have in this issue: https://github.com/pytorch/vision/issues/6753, and you can also check out https://github.com/pytorch/vision/issues/7319 to learn more about the APIs that we suspect might involve future changes. You can silence this warning by calling torchvision.disable_beta_transforms_warning().\n",
      "  warnings.warn(_BETA_TRANSFORMS_WARNING)\n"
     ]
    }
   ],
   "source": [
    "from transformers import pipeline"
   ]
  },
  {
   "cell_type": "markdown",
   "id": "8167f73e",
   "metadata": {},
   "source": [
    "## Zero Shot Classification"
   ]
  },
  {
   "cell_type": "code",
   "execution_count": 2,
   "id": "2504cd9e",
   "metadata": {},
   "outputs": [
    {
     "name": "stderr",
     "output_type": "stream",
     "text": [
      "No model was supplied, defaulted to facebook/bart-large-mnli and revision d7645e1 (https://huggingface.co/facebook/bart-large-mnli).\n",
      "Using a pipeline without specifying a model name and revision in production is not recommended.\n",
      "Device set to use cpu\n"
     ]
    }
   ],
   "source": [
    "classifier = pipeline(\"zero-shot-classification\")"
   ]
  },
  {
   "cell_type": "code",
   "execution_count": 3,
   "id": "d907dce9",
   "metadata": {},
   "outputs": [],
   "source": [
    "email1 = (\n",
    "\"\"\"\n",
    "I would like to schedule a meeting this week to discuss the latest updates on the project and review \n",
    "any challenges we may be facing. Please let me know your availability, \n",
    "and I’ll send a calendar invite accordingly.\n",
    "\"\"\"\n",
    ")\n",
    "\n",
    "email2 = (\n",
    "\"\"\"\n",
    "We are writing to inform you of recent changes to the terms of your account. \n",
    "Please log in to your online banking \n",
    "to review the update and ensure all your details are up to date. \n",
    "\"\"\"\n",
    ")\n",
    "\n",
    "email3 = (\n",
    "\"\"\"\n",
    "I hope you're doing well! I just wanted to check in and see how things are going with you, \n",
    "it's been a while since we last chatted. \n",
    "Let me know if you'd like to catch up over a call soon.\n",
    "\"\"\"\n",
    ")"
   ]
  },
  {
   "cell_type": "code",
   "execution_count": 4,
   "id": "1ded43f1",
   "metadata": {},
   "outputs": [],
   "source": [
    "labels = [\"work\", \"family\", \"shopping\", \"bank\"]"
   ]
  },
  {
   "cell_type": "code",
   "execution_count": 5,
   "id": "53addf32",
   "metadata": {},
   "outputs": [],
   "source": [
    "def email_classifier(email):\n",
    "    result = classifier(email, labels)\n",
    "    print(email)\n",
    "    print(result['labels'])\n",
    "    print(result['scores'])"
   ]
  },
  {
   "cell_type": "code",
   "execution_count": 6,
   "id": "5587063e",
   "metadata": {},
   "outputs": [
    {
     "name": "stdout",
     "output_type": "stream",
     "text": [
      "\n",
      "I would like to schedule a meeting this week to discuss the latest updates on the project and review \n",
      "any challenges we may be facing. Please let me know your availability, \n",
      "and I’ll send a calendar invite accordingly.\n",
      "\n",
      "['work', 'bank', 'family', 'shopping']\n",
      "[0.6842801570892334, 0.16454987227916718, 0.09653735905885696, 0.05463256686925888]\n"
     ]
    }
   ],
   "source": [
    "email_classifier(email1)"
   ]
  },
  {
   "cell_type": "code",
   "execution_count": 7,
   "id": "9196f3f4",
   "metadata": {},
   "outputs": [
    {
     "name": "stdout",
     "output_type": "stream",
     "text": [
      "\n",
      "We are writing to inform you of recent changes to the terms of your account. \n",
      "Please log in to your online banking \n",
      "to review the update and ensure all your details are up to date. \n",
      "\n",
      "['bank', 'work', 'family', 'shopping']\n",
      "[0.43756306171417236, 0.38451048731803894, 0.13505898416042328, 0.04286746680736542]\n"
     ]
    }
   ],
   "source": [
    "email_classifier(email2)"
   ]
  },
  {
   "cell_type": "code",
   "execution_count": 8,
   "id": "a5656f7a",
   "metadata": {},
   "outputs": [
    {
     "name": "stdout",
     "output_type": "stream",
     "text": [
      "\n",
      "I hope you're doing well! I just wanted to check in and see how things are going with you, \n",
      "it's been a while since we last chatted. \n",
      "Let me know if you'd like to catch up over a call soon.\n",
      "\n",
      "['family', 'bank', 'work', 'shopping']\n",
      "[0.44756847620010376, 0.2702644467353821, 0.22858040034770966, 0.05358666181564331]\n"
     ]
    }
   ],
   "source": [
    "email_classifier(email3)"
   ]
  },
  {
   "cell_type": "markdown",
   "id": "1da7f300",
   "metadata": {},
   "source": [
    "## Text Classification"
   ]
  },
  {
   "cell_type": "code",
   "execution_count": 9,
   "id": "5b8708c9",
   "metadata": {},
   "outputs": [
    {
     "name": "stderr",
     "output_type": "stream",
     "text": [
      "No model was supplied, defaulted to openai-community/gpt2 and revision 607a30d (https://huggingface.co/openai-community/gpt2).\n",
      "Using a pipeline without specifying a model name and revision in production is not recommended.\n",
      "Device set to use cpu\n"
     ]
    }
   ],
   "source": [
    "text_generator = pipeline(\"text-generation\")"
   ]
  },
  {
   "cell_type": "code",
   "execution_count": 10,
   "id": "196783d3",
   "metadata": {},
   "outputs": [],
   "source": [
    "prompt = \"The year is 2050, and computers have taken control of society,\""
   ]
  },
  {
   "cell_type": "code",
   "execution_count": 11,
   "id": "d964f204",
   "metadata": {},
   "outputs": [
    {
     "name": "stderr",
     "output_type": "stream",
     "text": [
      "Setting `pad_token_id` to `eos_token_id`:50256 for open-end generation.\n"
     ]
    }
   ],
   "source": [
    "generated_text = text_generator(prompt)"
   ]
  },
  {
   "cell_type": "code",
   "execution_count": 12,
   "id": "cb6ab04c",
   "metadata": {},
   "outputs": [
    {
     "name": "stdout",
     "output_type": "stream",
     "text": [
      "[{'generated_text': 'The year is 2050, and computers have taken control of society, and in doing so they may no longer be the \"ultimate force\" (as they are now when it comes to political debate), but may actually have the potential to change the course of'}]\n"
     ]
    }
   ],
   "source": [
    "print(generated_text)"
   ]
  },
  {
   "cell_type": "markdown",
   "id": "eec28afd",
   "metadata": {},
   "source": [
    "## Summarization"
   ]
  },
  {
   "cell_type": "code",
   "execution_count": 13,
   "id": "f638f66b",
   "metadata": {},
   "outputs": [
    {
     "name": "stderr",
     "output_type": "stream",
     "text": [
      "No model was supplied, defaulted to sshleifer/distilbart-cnn-12-6 and revision a4f8f3e (https://huggingface.co/sshleifer/distilbart-cnn-12-6).\n",
      "Using a pipeline without specifying a model name and revision in production is not recommended.\n",
      "C:\\Users\\lnewb\\AppData\\Local\\Programs\\Python\\Python311\\Lib\\site-packages\\torch\\_utils.py:776: UserWarning: TypedStorage is deprecated. It will be removed in the future and UntypedStorage will be the only storage class. This should only matter to you if you are using storages directly.  To access UntypedStorage directly, use tensor.untyped_storage() instead of tensor.storage()\n",
      "  return self.fget.__get__(instance, owner)()\n",
      "Device set to use cpu\n"
     ]
    }
   ],
   "source": [
    "summarizer = pipeline(\"summarization\")"
   ]
  },
  {
   "cell_type": "code",
   "execution_count": 14,
   "id": "85315339",
   "metadata": {},
   "outputs": [],
   "source": [
    "text_to_summarize =\\\n",
    "\"\"\"\n",
    "Over the past decade, AI has undergone significant advancements that have transformed industries and everyday life. One of the most notable breakthroughs has been the development of deep learning techniques, particularly in the field of neural networks. In 2012, the introduction of convolutional neural networks (CNNs) for image classification by AlexNet revolutionized computer vision, leading to AI systems achieving human-level accuracy in image recognition tasks.\n",
    "In the following years, natural language processing saw major improvements with the introduction of transformer-based models like BERT and GPT. These models significantly enhanced AI's ability to understand and generate human language, enabling applications such as automatic translation, chatbots, and content creation. GPT-3, for example, has demonstrated the ability to produce coherent and contextually relevant text, sparking a surge in interest in language models.\n",
    "AI also made strides in reinforcement learning, with algorithms like AlphaGo and its successor AlphaZero achieving unprecedented success in complex board games such as Go and chess. These achievements showcased AI's potential in mastering strategic decision-making.\n",
    "The widespread availability of cloud computing and massive datasets has accelerated AI research, making powerful machine learning models more accessible. However, this has also raised concerns about AI ethics, data privacy, and the potential for biases in algorithms. In response, there has been a growing emphasis on responsible AI development, with organizations and governments pushing for regulations to ensure the ethical use of AI technologies.\n",
    "AI-powered automation has also made its mark in various sectors, including healthcare, finance, and manufacturing. Algorithms are now used to predict disease outcomes, optimize financial trading, and enhance production efficiency. As AI continues to evolve, experts believe that its capabilities will only expand, with future developments focusing on improving general intelligence, enhancing human-AI collaboration, and addressing societal challenges.\n",
    "\"\"\""
   ]
  },
  {
   "cell_type": "code",
   "execution_count": 15,
   "id": "25a80e41",
   "metadata": {},
   "outputs": [],
   "source": [
    "summarized_text = summarizer(text_to_summarize)"
   ]
  },
  {
   "cell_type": "code",
   "execution_count": 16,
   "id": "8813ee26",
   "metadata": {},
   "outputs": [
    {
     "name": "stdout",
     "output_type": "stream",
     "text": [
      "[{'summary_text': ' Over the past decade, AI has undergone significant advancements that have transformed industries and everyday life . Algorithms are now used to predict disease outcomes, optimize financial trading, and enhance production efficiency . Future developments will focus on improving general intelligence, enhancing human-AI collaboration, and addressing societal challenges .'}]\n"
     ]
    }
   ],
   "source": [
    "print(summarized_text)"
   ]
  },
  {
   "cell_type": "code",
   "execution_count": null,
   "id": "580b19ac",
   "metadata": {},
   "outputs": [],
   "source": []
  }
 ],
 "metadata": {
  "kernelspec": {
   "display_name": "Python 3 (ipykernel)",
   "language": "python",
   "name": "python3"
  },
  "language_info": {
   "codemirror_mode": {
    "name": "ipython",
    "version": 3
   },
   "file_extension": ".py",
   "mimetype": "text/x-python",
   "name": "python",
   "nbconvert_exporter": "python",
   "pygments_lexer": "ipython3",
   "version": "3.11.5"
  }
 },
 "nbformat": 4,
 "nbformat_minor": 5
}
